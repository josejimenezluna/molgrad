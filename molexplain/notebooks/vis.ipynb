{
 "cells": [
  {
   "cell_type": "code",
   "execution_count": 1,
   "metadata": {},
   "outputs": [],
   "source": [
    "import os\n",
    "os.chdir('../..')"
   ]
  },
  {
   "cell_type": "code",
   "execution_count": 2,
   "metadata": {},
   "outputs": [
    {
     "name": "stderr",
     "output_type": "stream",
     "text": [
      "RDKit WARNING: [10:47:30] Enabling RDKit 2019.09.3 jupyter extensions\n",
      "Using backend: pytorch\n"
     ]
    }
   ],
   "source": [
    "import pickle\n",
    "import numpy as np\n",
    "import pandas as pd\n",
    "import torch\n",
    "\n",
    "from rdkit.Chem import MolFromInchi\n",
    "from rdkit.Chem.Draw import IPythonConsole\n",
    "from IPython.display import SVG\n",
    "\n",
    "from molexplain.utils import MODELS_PATH, PROCESSED_DATA_PATH, DEVICE\n",
    "from molexplain.vis import molecule_importance"
   ]
  },
  {
   "cell_type": "code",
   "execution_count": 3,
   "metadata": {},
   "outputs": [
    {
     "data": {
      "text/plain": [
       "<All keys matched successfully>"
      ]
     },
     "execution_count": 3,
     "metadata": {},
     "output_type": "execute_result"
    }
   ],
   "source": [
    "from molexplain.net import MPNNPredictor\n",
    "\n",
    "model = MPNNPredictor(node_in_feats=46,\n",
    "                      edge_in_feats=10,\n",
    "                      global_feats=4,\n",
    "                      n_tasks=1).to(DEVICE) \n",
    "model.load_state_dict(torch.load(os.path.join(MODELS_PATH,\n",
    "                                              \"CYP3A4_noHs.pt\"),\n",
    "                                 map_location=DEVICE))\n"
   ]
  },
  {
   "cell_type": "code",
   "execution_count": 4,
   "metadata": {},
   "outputs": [],
   "source": [
    "with open(os.path.join(PROCESSED_DATA_PATH, 'cyp_data.pt'), 'rb') as handle:\n",
    "    inchis, values, _ = pickle.load(handle)"
   ]
  },
  {
   "cell_type": "code",
   "execution_count": 5,
   "metadata": {},
   "outputs": [],
   "source": [
    "mol = MolFromInchi(inchis[26])"
   ]
  },
  {
   "cell_type": "code",
   "execution_count": 6,
   "metadata": {},
   "outputs": [],
   "source": [
    "svg, img, _, _, global_importance = molecule_importance(mol,\n",
    "                                                        model,\n",
    "                                                        task=0,\n",
    "                                                        version=2,\n",
    "                                                        vis_factor=1,\n",
    "                                                        addHs=False)"
   ]
  },
  {
   "cell_type": "code",
   "execution_count": 7,
   "metadata": {},
   "outputs": [
    {
     "data": {
      "image/svg+xml": [
       "<svg baseProfile=\"full\" height=\"200px\" version=\"1.1\" viewBox=\"0 0 400 200\" width=\"400px\" xml:space=\"preserve\" xmlns=\"http://www.w3.org/2000/svg\" xmlns:rdkit=\"http://www.rdkit.org/xml\" xmlns:xlink=\"http://www.w3.org/1999/xlink\">\n",
       "<!-- END OF HEADER -->\n",
       "<rect height=\"200\" style=\"opacity:1.0;fill:#FFFFFF;stroke:none\" width=\"400\" x=\"0\" y=\"0\"> </rect>\n",
       "<path d=\"M 309.655,178.67 L 277.141,172.358\" style=\"fill:none;fill-rule:evenodd;stroke:#FF0000;stroke-width:14px;stroke-linecap:butt;stroke-linejoin:miter;stroke-opacity:1\"/>\n",
       "<path d=\"M 320.587,122.354 L 288.073,116.042\" style=\"fill:none;fill-rule:evenodd;stroke:#FF0000;stroke-width:14px;stroke-linecap:butt;stroke-linejoin:miter;stroke-opacity:1\"/>\n",
       "<path d=\"M 68.6428,168.412 L 93.6448,190.135\" style=\"fill:none;fill-rule:evenodd;stroke:#00FF00;stroke-width:14px;stroke-linecap:butt;stroke-linejoin:miter;stroke-opacity:1\"/>\n",
       "<path d=\"M 68.6428,168.412 L 81.5765,137.921\" style=\"fill:none;fill-rule:evenodd;stroke:#00FF00;stroke-width:14px;stroke-linecap:butt;stroke-linejoin:miter;stroke-opacity:1\"/>\n",
       "<path d=\"M 277.141,172.358 L 266.35,141.044\" style=\"fill:none;fill-rule:evenodd;stroke:#FF0000;stroke-width:14px;stroke-linecap:butt;stroke-linejoin:miter;stroke-opacity:1\"/>\n",
       "<path d=\"M 288.073,116.042 L 266.35,141.044\" style=\"fill:none;fill-rule:evenodd;stroke:#FF0000;stroke-width:14px;stroke-linecap:butt;stroke-linejoin:miter;stroke-opacity:1\"/>\n",
       "<path d=\"M 125.504,84.4841 L 147.227,59.4821\" style=\"fill:none;fill-rule:evenodd;stroke:#00FF00;stroke-width:14px;stroke-linecap:butt;stroke-linejoin:miter;stroke-opacity:1\"/>\n",
       "<path d=\"M 125.504,84.4841 L 136.295,115.798\" style=\"fill:none;fill-rule:evenodd;stroke:#00FF00;stroke-width:14px;stroke-linecap:butt;stroke-linejoin:miter;stroke-opacity:1\"/>\n",
       "<path d=\"M 81.5765,137.921 L 114.572,140.8\" style=\"fill:none;fill-rule:evenodd;stroke:#00FF00;stroke-width:14px;stroke-linecap:butt;stroke-linejoin:miter;stroke-opacity:1\"/>\n",
       "<path d=\"M 168.809,122.109 L 136.295,115.798\" style=\"fill:none;fill-rule:evenodd;stroke:#00FF00;stroke-width:14px;stroke-linecap:butt;stroke-linejoin:miter;stroke-opacity:1\"/>\n",
       "<path d=\"M 168.809,122.109 L 190.532,97.1074\" style=\"fill:none;fill-rule:evenodd;stroke:#00FF00;stroke-width:14px;stroke-linecap:butt;stroke-linejoin:miter;stroke-opacity:1\"/>\n",
       "<path d=\"M 233.837,134.733 L 266.35,141.044\" style=\"fill:none;fill-rule:evenodd;stroke:#FF0000;stroke-width:14px;stroke-linecap:butt;stroke-linejoin:miter;stroke-opacity:1\"/>\n",
       "<path d=\"M 233.837,134.733 L 223.046,103.419\" style=\"fill:none;fill-rule:evenodd;stroke:#FF0000;stroke-width:14px;stroke-linecap:butt;stroke-linejoin:miter;stroke-opacity:1\"/>\n",
       "<path d=\"M 136.295,115.798 L 114.572,140.8\" style=\"fill:none;fill-rule:evenodd;stroke:#00FF00;stroke-width:14px;stroke-linecap:butt;stroke-linejoin:miter;stroke-opacity:1\"/>\n",
       "<path d=\"M 201.464,40.7918 L 190.673,9.47819\" style=\"fill:none;fill-rule:evenodd;stroke:#00FF00;stroke-width:14px;stroke-linecap:butt;stroke-linejoin:miter;stroke-opacity:1\"/>\n",
       "<path d=\"M 201.464,40.7918 L 233.978,47.1035\" style=\"fill:none;fill-rule:evenodd;stroke:#00FF00;stroke-width:14px;stroke-linecap:butt;stroke-linejoin:miter;stroke-opacity:1\"/>\n",
       "<ellipse cx=\"331.378\" cy=\"153.668\" rx=\"0.395378\" ry=\"0.395378\" style=\"fill:#00FF00;fill-rule:evenodd;stroke:#00FF00;stroke-width:1px;stroke-linecap:butt;stroke-linejoin:miter;stroke-opacity:1\"/>\n",
       "<ellipse cx=\"309.655\" cy=\"178.67\" rx=\"0.0253511\" ry=\"0.0253511\" style=\"fill:#FF0000;fill-rule:evenodd;stroke:#FF0000;stroke-width:1px;stroke-linecap:butt;stroke-linejoin:miter;stroke-opacity:1\"/>\n",
       "<ellipse cx=\"320.587\" cy=\"122.354\" rx=\"0.0253511\" ry=\"0.0253511\" style=\"fill:#FF0000;fill-rule:evenodd;stroke:#FF0000;stroke-width:1px;stroke-linecap:butt;stroke-linejoin:miter;stroke-opacity:1\"/>\n",
       "<ellipse cx=\"68.6428\" cy=\"168.412\" rx=\"0.41618\" ry=\"0.41618\" style=\"fill:#00FF00;fill-rule:evenodd;stroke:#00FF00;stroke-width:1px;stroke-linecap:butt;stroke-linejoin:miter;stroke-opacity:1\"/>\n",
       "<ellipse cx=\"93.6448\" cy=\"190.135\" rx=\"0.773799\" ry=\"0.773799\" style=\"fill:#00FF00;fill-rule:evenodd;stroke:#00FF00;stroke-width:1px;stroke-linecap:butt;stroke-linejoin:miter;stroke-opacity:1\"/>\n",
       "<ellipse cx=\"277.141\" cy=\"172.358\" rx=\"0.225825\" ry=\"0.225825\" style=\"fill:#FF0000;fill-rule:evenodd;stroke:#FF0000;stroke-width:1px;stroke-linecap:butt;stroke-linejoin:miter;stroke-opacity:1\"/>\n",
       "<ellipse cx=\"288.073\" cy=\"116.042\" rx=\"0.225825\" ry=\"0.225825\" style=\"fill:#FF0000;fill-rule:evenodd;stroke:#FF0000;stroke-width:1px;stroke-linecap:butt;stroke-linejoin:miter;stroke-opacity:1\"/>\n",
       "<ellipse cx=\"125.504\" cy=\"84.4841\" rx=\"1.20593\" ry=\"1.20593\" style=\"fill:#00FF00;fill-rule:evenodd;stroke:#00FF00;stroke-width:1px;stroke-linecap:butt;stroke-linejoin:miter;stroke-opacity:1\"/>\n",
       "<ellipse cx=\"147.227\" cy=\"59.4821\" rx=\"0.227429\" ry=\"0.227429\" style=\"fill:#00FF00;fill-rule:evenodd;stroke:#00FF00;stroke-width:1px;stroke-linecap:butt;stroke-linejoin:miter;stroke-opacity:1\"/>\n",
       "<ellipse cx=\"81.5765\" cy=\"137.921\" rx=\"0.281805\" ry=\"0.281805\" style=\"fill:#00FF00;fill-rule:evenodd;stroke:#00FF00;stroke-width:1px;stroke-linecap:butt;stroke-linejoin:miter;stroke-opacity:1\"/>\n",
       "<ellipse cx=\"122.031\" cy=\"173.07\" rx=\"0.00515673\" ry=\"0.00515673\" style=\"fill:#FF0000;fill-rule:evenodd;stroke:#FF0000;stroke-width:1px;stroke-linecap:butt;stroke-linejoin:miter;stroke-opacity:1\"/>\n",
       "<ellipse cx=\"168.809\" cy=\"122.109\" rx=\"2.29294\" ry=\"2.29294\" style=\"fill:#00FF00;fill-rule:evenodd;stroke:#00FF00;stroke-width:1px;stroke-linecap:butt;stroke-linejoin:miter;stroke-opacity:1\"/>\n",
       "<ellipse cx=\"233.837\" cy=\"134.733\" rx=\"0.471513\" ry=\"0.471513\" style=\"fill:#FF0000;fill-rule:evenodd;stroke:#FF0000;stroke-width:1px;stroke-linecap:butt;stroke-linejoin:miter;stroke-opacity:1\"/>\n",
       "<ellipse cx=\"266.35\" cy=\"141.044\" rx=\"0.186256\" ry=\"0.186256\" style=\"fill:#FF0000;fill-rule:evenodd;stroke:#FF0000;stroke-width:1px;stroke-linecap:butt;stroke-linejoin:miter;stroke-opacity:1\"/>\n",
       "<ellipse cx=\"136.295\" cy=\"115.798\" rx=\"1.8269\" ry=\"1.8269\" style=\"fill:#00FF00;fill-rule:evenodd;stroke:#00FF00;stroke-width:1px;stroke-linecap:butt;stroke-linejoin:miter;stroke-opacity:1\"/>\n",
       "<ellipse cx=\"190.532\" cy=\"97.1074\" rx=\"0.559981\" ry=\"0.559981\" style=\"fill:#00FF00;fill-rule:evenodd;stroke:#00FF00;stroke-width:1px;stroke-linecap:butt;stroke-linejoin:miter;stroke-opacity:1\"/>\n",
       "<ellipse cx=\"179.741\" cy=\"65.7938\" rx=\"3.29416\" ry=\"3.29416\" style=\"fill:#FF0000;fill-rule:evenodd;stroke:#FF0000;stroke-width:1px;stroke-linecap:butt;stroke-linejoin:miter;stroke-opacity:1\"/>\n",
       "<ellipse cx=\"223.046\" cy=\"103.419\" rx=\"0.392231\" ry=\"0.392231\" style=\"fill:#FF0000;fill-rule:evenodd;stroke:#FF0000;stroke-width:1px;stroke-linecap:butt;stroke-linejoin:miter;stroke-opacity:1\"/>\n",
       "<ellipse cx=\"114.572\" cy=\"140.8\" rx=\"0.0210535\" ry=\"0.0210535\" style=\"fill:#00FF00;fill-rule:evenodd;stroke:#00FF00;stroke-width:1px;stroke-linecap:butt;stroke-linejoin:miter;stroke-opacity:1\"/>\n",
       "<ellipse cx=\"201.464\" cy=\"40.7918\" rx=\"0.153911\" ry=\"0.153911\" style=\"fill:#00FF00;fill-rule:evenodd;stroke:#00FF00;stroke-width:1px;stroke-linecap:butt;stroke-linejoin:miter;stroke-opacity:1\"/>\n",
       "<ellipse cx=\"190.673\" cy=\"9.47819\" rx=\"0.387278\" ry=\"0.387278\" style=\"fill:#00FF00;fill-rule:evenodd;stroke:#00FF00;stroke-width:1px;stroke-linecap:butt;stroke-linejoin:miter;stroke-opacity:1\"/>\n",
       "<ellipse cx=\"233.978\" cy=\"47.1035\" rx=\"0.789788\" ry=\"0.789788\" style=\"fill:#00FF00;fill-rule:evenodd;stroke:#00FF00;stroke-width:1px;stroke-linecap:butt;stroke-linejoin:miter;stroke-opacity:1\"/>\n",
       "<path class=\"bond-0\" d=\"M 331.378,153.668 L 309.655,178.67\" style=\"fill:none;fill-rule:evenodd;stroke:#000000;stroke-width:2px;stroke-linecap:butt;stroke-linejoin:miter;stroke-opacity:1\"/>\n",
       "<path class=\"bond-0\" d=\"M 323.119,153.073 L 307.913,170.575\" style=\"fill:none;fill-rule:evenodd;stroke:#000000;stroke-width:2px;stroke-linecap:butt;stroke-linejoin:miter;stroke-opacity:1;stroke-dasharray:6,6\"/>\n",
       "<path class=\"bond-1\" d=\"M 331.378,153.668 L 320.587,122.354\" style=\"fill:none;fill-rule:evenodd;stroke:#000000;stroke-width:2px;stroke-linecap:butt;stroke-linejoin:miter;stroke-opacity:1\"/>\n",
       "<path class=\"bond-1\" d=\"M 323.497,151.129 L 315.943,129.209\" style=\"fill:none;fill-rule:evenodd;stroke:#000000;stroke-width:2px;stroke-linecap:butt;stroke-linejoin:miter;stroke-opacity:1;stroke-dasharray:6,6\"/>\n",
       "<path class=\"bond-2\" d=\"M 309.655,178.67 L 277.141,172.358\" style=\"fill:none;fill-rule:evenodd;stroke:#000000;stroke-width:2px;stroke-linecap:butt;stroke-linejoin:miter;stroke-opacity:1\"/>\n",
       "<path class=\"bond-2\" d=\"M 306.04,171.22 L 283.281,166.802\" style=\"fill:none;fill-rule:evenodd;stroke:#000000;stroke-width:2px;stroke-linecap:butt;stroke-linejoin:miter;stroke-opacity:1;stroke-dasharray:6,6\"/>\n",
       "<path class=\"bond-3\" d=\"M 320.587,122.354 L 288.073,116.042\" style=\"fill:none;fill-rule:evenodd;stroke:#000000;stroke-width:2px;stroke-linecap:butt;stroke-linejoin:miter;stroke-opacity:1\"/>\n",
       "<path class=\"bond-3\" d=\"M 314.448,127.91 L 291.688,123.492\" style=\"fill:none;fill-rule:evenodd;stroke:#000000;stroke-width:2px;stroke-linecap:butt;stroke-linejoin:miter;stroke-opacity:1;stroke-dasharray:6,6\"/>\n",
       "<path class=\"bond-4\" d=\"M 68.6428,168.412 L 93.6448,190.135\" style=\"fill:none;fill-rule:evenodd;stroke:#000000;stroke-width:2px;stroke-linecap:butt;stroke-linejoin:miter;stroke-opacity:1\"/>\n",
       "<path class=\"bond-5\" d=\"M 68.6428,168.412 L 81.5765,137.921\" style=\"fill:none;fill-rule:evenodd;stroke:#000000;stroke-width:2px;stroke-linecap:butt;stroke-linejoin:miter;stroke-opacity:1\"/>\n",
       "<path class=\"bond-6\" d=\"M 93.6448,190.135 L 122.031,173.07\" style=\"fill:none;fill-rule:evenodd;stroke:#000000;stroke-width:2px;stroke-linecap:butt;stroke-linejoin:miter;stroke-opacity:1\"/>\n",
       "<path class=\"bond-7\" d=\"M 277.141,172.358 L 266.35,141.044\" style=\"fill:none;fill-rule:evenodd;stroke:#000000;stroke-width:2px;stroke-linecap:butt;stroke-linejoin:miter;stroke-opacity:1\"/>\n",
       "<path class=\"bond-7\" d=\"M 281.785,165.503 L 274.232,143.583\" style=\"fill:none;fill-rule:evenodd;stroke:#000000;stroke-width:2px;stroke-linecap:butt;stroke-linejoin:miter;stroke-opacity:1;stroke-dasharray:6,6\"/>\n",
       "<path class=\"bond-8\" d=\"M 288.073,116.042 L 266.35,141.044\" style=\"fill:none;fill-rule:evenodd;stroke:#000000;stroke-width:2px;stroke-linecap:butt;stroke-linejoin:miter;stroke-opacity:1\"/>\n",
       "<path class=\"bond-8\" d=\"M 289.815,124.137 L 274.609,141.639\" style=\"fill:none;fill-rule:evenodd;stroke:#000000;stroke-width:2px;stroke-linecap:butt;stroke-linejoin:miter;stroke-opacity:1;stroke-dasharray:6,6\"/>\n",
       "<path class=\"bond-9\" d=\"M 125.504,84.4841 L 147.227,59.4821\" style=\"fill:none;fill-rule:evenodd;stroke:#000000;stroke-width:2px;stroke-linecap:butt;stroke-linejoin:miter;stroke-opacity:1\"/>\n",
       "<path class=\"bond-9\" d=\"M 133.763,85.0784 L 148.969,67.577\" style=\"fill:none;fill-rule:evenodd;stroke:#000000;stroke-width:2px;stroke-linecap:butt;stroke-linejoin:miter;stroke-opacity:1;stroke-dasharray:6,6\"/>\n",
       "<path class=\"bond-10\" d=\"M 125.504,84.4841 L 136.295,115.798\" style=\"fill:none;fill-rule:evenodd;stroke:#000000;stroke-width:2px;stroke-linecap:butt;stroke-linejoin:miter;stroke-opacity:1\"/>\n",
       "<path class=\"bond-10\" d=\"M 133.385,87.023 L 140.939,108.943\" style=\"fill:none;fill-rule:evenodd;stroke:#000000;stroke-width:2px;stroke-linecap:butt;stroke-linejoin:miter;stroke-opacity:1;stroke-dasharray:6,6\"/>\n",
       "<path class=\"bond-11\" d=\"M 147.227,59.4821 L 179.741,65.7938\" style=\"fill:none;fill-rule:evenodd;stroke:#000000;stroke-width:2px;stroke-linecap:butt;stroke-linejoin:miter;stroke-opacity:1\"/>\n",
       "<path class=\"bond-11\" d=\"M 150.842,66.9317 L 173.602,71.3498\" style=\"fill:none;fill-rule:evenodd;stroke:#000000;stroke-width:2px;stroke-linecap:butt;stroke-linejoin:miter;stroke-opacity:1;stroke-dasharray:6,6\"/>\n",
       "<path class=\"bond-12\" d=\"M 81.5765,137.921 L 95.682,139.152\" style=\"fill:none;fill-rule:evenodd;stroke:#000000;stroke-width:2px;stroke-linecap:butt;stroke-linejoin:miter;stroke-opacity:1\"/>\n",
       "<path class=\"bond-12\" d=\"M 95.682,139.152 L 109.787,140.382\" style=\"fill:none;fill-rule:evenodd;stroke:#0000FF;stroke-width:2px;stroke-linecap:butt;stroke-linejoin:miter;stroke-opacity:1\"/>\n",
       "<path class=\"bond-13\" d=\"M 122.031,173.07 L 118.939,159.695\" style=\"fill:none;fill-rule:evenodd;stroke:#000000;stroke-width:2px;stroke-linecap:butt;stroke-linejoin:miter;stroke-opacity:1\"/>\n",
       "<path class=\"bond-13\" d=\"M 118.939,159.695 L 115.848,146.32\" style=\"fill:none;fill-rule:evenodd;stroke:#0000FF;stroke-width:2px;stroke-linecap:butt;stroke-linejoin:miter;stroke-opacity:1\"/>\n",
       "<path class=\"bond-14\" d=\"M 168.809,122.109 L 136.295,115.798\" style=\"fill:none;fill-rule:evenodd;stroke:#000000;stroke-width:2px;stroke-linecap:butt;stroke-linejoin:miter;stroke-opacity:1\"/>\n",
       "<path class=\"bond-14\" d=\"M 165.194,114.66 L 142.434,110.242\" style=\"fill:none;fill-rule:evenodd;stroke:#000000;stroke-width:2px;stroke-linecap:butt;stroke-linejoin:miter;stroke-opacity:1;stroke-dasharray:6,6\"/>\n",
       "<path class=\"bond-15\" d=\"M 168.809,122.109 L 190.532,97.1074\" style=\"fill:none;fill-rule:evenodd;stroke:#000000;stroke-width:2px;stroke-linecap:butt;stroke-linejoin:miter;stroke-opacity:1\"/>\n",
       "<path class=\"bond-15\" d=\"M 167.067,114.015 L 182.273,96.5131\" style=\"fill:none;fill-rule:evenodd;stroke:#000000;stroke-width:2px;stroke-linecap:butt;stroke-linejoin:miter;stroke-opacity:1;stroke-dasharray:6,6\"/>\n",
       "<path class=\"bond-16\" d=\"M 233.837,134.733 L 266.35,141.044\" style=\"fill:none;fill-rule:evenodd;stroke:#000000;stroke-width:2px;stroke-linecap:butt;stroke-linejoin:miter;stroke-opacity:1\"/>\n",
       "<path class=\"bond-17\" d=\"M 233.837,134.733 L 229.392,121.836\" style=\"fill:none;fill-rule:evenodd;stroke:#000000;stroke-width:2px;stroke-linecap:butt;stroke-linejoin:miter;stroke-opacity:1\"/>\n",
       "<path class=\"bond-17\" d=\"M 229.392,121.836 L 224.948,108.939\" style=\"fill:none;fill-rule:evenodd;stroke:#0000FF;stroke-width:2px;stroke-linecap:butt;stroke-linejoin:miter;stroke-opacity:1\"/>\n",
       "<path class=\"bond-18\" d=\"M 136.295,115.798 L 127.826,125.545\" style=\"fill:none;fill-rule:evenodd;stroke:#000000;stroke-width:2px;stroke-linecap:butt;stroke-linejoin:miter;stroke-opacity:1\"/>\n",
       "<path class=\"bond-18\" d=\"M 127.826,125.545 L 119.357,135.293\" style=\"fill:none;fill-rule:evenodd;stroke:#0000FF;stroke-width:2px;stroke-linecap:butt;stroke-linejoin:miter;stroke-opacity:1\"/>\n",
       "<path class=\"bond-19\" d=\"M 190.532,97.1074 L 179.741,65.7938\" style=\"fill:none;fill-rule:evenodd;stroke:#000000;stroke-width:2px;stroke-linecap:butt;stroke-linejoin:miter;stroke-opacity:1\"/>\n",
       "<path class=\"bond-19\" d=\"M 182.65,94.5686 L 175.097,72.649\" style=\"fill:none;fill-rule:evenodd;stroke:#000000;stroke-width:2px;stroke-linecap:butt;stroke-linejoin:miter;stroke-opacity:1;stroke-dasharray:6,6\"/>\n",
       "<path class=\"bond-20\" d=\"M 190.532,97.1074 L 202.004,99.3345\" style=\"fill:none;fill-rule:evenodd;stroke:#000000;stroke-width:2px;stroke-linecap:butt;stroke-linejoin:miter;stroke-opacity:1\"/>\n",
       "<path class=\"bond-20\" d=\"M 202.004,99.3345 L 213.477,101.562\" style=\"fill:none;fill-rule:evenodd;stroke:#0000FF;stroke-width:2px;stroke-linecap:butt;stroke-linejoin:miter;stroke-opacity:1\"/>\n",
       "<path class=\"bond-21\" d=\"M 179.741,65.7938 L 187.965,56.3289\" style=\"fill:none;fill-rule:evenodd;stroke:#000000;stroke-width:2px;stroke-linecap:butt;stroke-linejoin:miter;stroke-opacity:1\"/>\n",
       "<path class=\"bond-21\" d=\"M 187.965,56.3289 L 196.188,46.864\" style=\"fill:none;fill-rule:evenodd;stroke:#0000FF;stroke-width:2px;stroke-linecap:butt;stroke-linejoin:miter;stroke-opacity:1\"/>\n",
       "<path class=\"bond-22\" d=\"M 199.371,34.7197 L 196.069,25.135\" style=\"fill:none;fill-rule:evenodd;stroke:#0000FF;stroke-width:2px;stroke-linecap:butt;stroke-linejoin:miter;stroke-opacity:1\"/>\n",
       "<path class=\"bond-22\" d=\"M 196.069,25.135 L 192.766,15.5503\" style=\"fill:none;fill-rule:evenodd;stroke:#FF0000;stroke-width:2px;stroke-linecap:butt;stroke-linejoin:miter;stroke-opacity:1\"/>\n",
       "<path class=\"bond-23\" d=\"M 207.552,45.3476 L 217.872,47.3508\" style=\"fill:none;fill-rule:evenodd;stroke:#0000FF;stroke-width:2px;stroke-linecap:butt;stroke-linejoin:miter;stroke-opacity:1\"/>\n",
       "<path class=\"bond-23\" d=\"M 217.872,47.3508 L 228.191,49.354\" style=\"fill:none;fill-rule:evenodd;stroke:#FF0000;stroke-width:2px;stroke-linecap:butt;stroke-linejoin:miter;stroke-opacity:1\"/>\n",
       "<path class=\"bond-23\" d=\"M 208.815,38.8449 L 219.134,40.8481\" style=\"fill:none;fill-rule:evenodd;stroke:#0000FF;stroke-width:2px;stroke-linecap:butt;stroke-linejoin:miter;stroke-opacity:1\"/>\n",
       "<path class=\"bond-23\" d=\"M 219.134,40.8481 L 229.453,42.8513\" style=\"fill:none;fill-rule:evenodd;stroke:#FF0000;stroke-width:2px;stroke-linecap:butt;stroke-linejoin:miter;stroke-opacity:1\"/>\n",
       "<text style=\"font-size:11px;font-style:normal;font-weight:normal;fill-opacity:1;stroke:none;font-family:sans-serif;text-anchor:start;fill:#0000FF\" x=\"213.477\" y=\"108.939\"><tspan>NH</tspan></text>\n",
       "<text style=\"font-size:11px;font-style:normal;font-weight:normal;fill-opacity:1;stroke:none;font-family:sans-serif;text-anchor:start;fill:#0000FF\" x=\"109.787\" y=\"146.32\"><tspan>N</tspan></text>\n",
       "<text style=\"font-size:11px;font-style:normal;font-weight:normal;fill-opacity:1;stroke:none;font-family:sans-serif;text-anchor:start;fill:#0000FF\" x=\"194.744\" y=\"46.864\"><tspan>N</tspan><tspan style=\"baseline-shift:super;font-size:8.25px;\">+</tspan><tspan/></text>\n",
       "<text style=\"font-size:11px;font-style:normal;font-weight:normal;fill-opacity:1;stroke:none;font-family:sans-serif;text-anchor:start;fill:#FF0000\" x=\"184.414\" y=\"15.5503\"><tspan>O</tspan><tspan style=\"baseline-shift:super;font-size:8.25px;\">-</tspan><tspan/></text>\n",
       "<text style=\"font-size:11px;font-style:normal;font-weight:normal;fill-opacity:1;stroke:none;font-family:sans-serif;text-anchor:start;fill:#FF0000\" x=\"228.822\" y=\"52.6236\"><tspan>O</tspan></text>\n",
       "</svg>"
      ],
      "text/plain": [
       "<IPython.core.display.SVG object>"
      ]
     },
     "execution_count": 7,
     "metadata": {},
     "output_type": "execute_result"
    }
   ],
   "source": [
    "img"
   ]
  },
  {
   "cell_type": "code",
   "execution_count": 8,
   "metadata": {},
   "outputs": [],
   "source": [
    "svg, img, _, _, global_importance = molecule_importance(mol,\n",
    "                                                        model,\n",
    "                                                        task=0,\n",
    "                                                        version=1,\n",
    "                                                        vis_factor=1,\n",
    "                                                        addHs=False)"
   ]
  },
  {
   "cell_type": "code",
   "execution_count": 9,
   "metadata": {},
   "outputs": [
    {
     "data": {
      "image/svg+xml": [
       "<svg baseProfile=\"full\" height=\"200px\" version=\"1.1\" viewBox=\"0 0 400 200\" width=\"400px\" xml:space=\"preserve\" xmlns=\"http://www.w3.org/2000/svg\" xmlns:rdkit=\"http://www.rdkit.org/xml\" xmlns:xlink=\"http://www.w3.org/1999/xlink\">\n",
       "<!-- END OF HEADER -->\n",
       "<rect height=\"200\" style=\"opacity:1.0;fill:#FFFFFF;stroke:none\" width=\"400\" x=\"0\" y=\"0\"> </rect>\n",
       "<path d=\"M 310.08,179.057 L 277.431,172.719\" style=\"fill:none;fill-rule:evenodd;stroke:#FF0000;stroke-width:14px;stroke-linecap:butt;stroke-linejoin:miter;stroke-opacity:1\"/>\n",
       "<path d=\"M 321.058,122.507 L 288.408,116.169\" style=\"fill:none;fill-rule:evenodd;stroke:#FF0000;stroke-width:14px;stroke-linecap:butt;stroke-linejoin:miter;stroke-opacity:1\"/>\n",
       "<path d=\"M 68.0635,168.757 L 93.1697,190.57\" style=\"fill:none;fill-rule:evenodd;stroke:#00FF00;stroke-width:14px;stroke-linecap:butt;stroke-linejoin:miter;stroke-opacity:1\"/>\n",
       "<path d=\"M 68.0635,168.757 L 81.0511,138.139\" style=\"fill:none;fill-rule:evenodd;stroke:#00FF00;stroke-width:14px;stroke-linecap:butt;stroke-linejoin:miter;stroke-opacity:1\"/>\n",
       "<path d=\"M 93.1697,190.57 L 121.674,173.434\" style=\"fill:none;fill-rule:evenodd;stroke:#00FF00;stroke-width:14px;stroke-linecap:butt;stroke-linejoin:miter;stroke-opacity:1\"/>\n",
       "<path d=\"M 277.431,172.719 L 266.595,141.275\" style=\"fill:none;fill-rule:evenodd;stroke:#FF0000;stroke-width:14px;stroke-linecap:butt;stroke-linejoin:miter;stroke-opacity:1\"/>\n",
       "<path d=\"M 288.408,116.169 L 266.595,141.275\" style=\"fill:none;fill-rule:evenodd;stroke:#FF0000;stroke-width:14px;stroke-linecap:butt;stroke-linejoin:miter;stroke-opacity:1\"/>\n",
       "<path d=\"M 125.162,84.4787 L 135.998,115.923\" style=\"fill:none;fill-rule:evenodd;stroke:#00FF00;stroke-width:14px;stroke-linecap:butt;stroke-linejoin:miter;stroke-opacity:1\"/>\n",
       "<path d=\"M 146.975,59.3725 L 179.625,65.7105\" style=\"fill:none;fill-rule:evenodd;stroke:#FF0000;stroke-width:14px;stroke-linecap:butt;stroke-linejoin:miter;stroke-opacity:1\"/>\n",
       "<path d=\"M 81.0511,138.139 L 114.184,141.029\" style=\"fill:none;fill-rule:evenodd;stroke:#00FF00;stroke-width:14px;stroke-linecap:butt;stroke-linejoin:miter;stroke-opacity:1\"/>\n",
       "<path d=\"M 121.674,173.434 L 114.184,141.029\" style=\"fill:none;fill-rule:evenodd;stroke:#00FF00;stroke-width:14px;stroke-linecap:butt;stroke-linejoin:miter;stroke-opacity:1\"/>\n",
       "<path d=\"M 168.647,122.261 L 135.998,115.923\" style=\"fill:none;fill-rule:evenodd;stroke:#00FF00;stroke-width:14px;stroke-linecap:butt;stroke-linejoin:miter;stroke-opacity:1\"/>\n",
       "<path d=\"M 233.946,134.937 L 266.595,141.275\" style=\"fill:none;fill-rule:evenodd;stroke:#FF0000;stroke-width:14px;stroke-linecap:butt;stroke-linejoin:miter;stroke-opacity:1\"/>\n",
       "<path d=\"M 233.946,134.937 L 223.11,103.493\" style=\"fill:none;fill-rule:evenodd;stroke:#FF0000;stroke-width:14px;stroke-linecap:butt;stroke-linejoin:miter;stroke-opacity:1\"/>\n",
       "<path d=\"M 135.998,115.923 L 114.184,141.029\" style=\"fill:none;fill-rule:evenodd;stroke:#00FF00;stroke-width:14px;stroke-linecap:butt;stroke-linejoin:miter;stroke-opacity:1\"/>\n",
       "<path d=\"M 190.46,97.1546 L 179.625,65.7105\" style=\"fill:none;fill-rule:evenodd;stroke:#FF0000;stroke-width:14px;stroke-linecap:butt;stroke-linejoin:miter;stroke-opacity:1\"/>\n",
       "<path d=\"M 190.46,97.1546 L 223.11,103.493\" style=\"fill:none;fill-rule:evenodd;stroke:#FF0000;stroke-width:14px;stroke-linecap:butt;stroke-linejoin:miter;stroke-opacity:1\"/>\n",
       "<path d=\"M 201.438,40.6043 L 190.602,9.16017\" style=\"fill:none;fill-rule:evenodd;stroke:#00FF00;stroke-width:14px;stroke-linecap:butt;stroke-linejoin:miter;stroke-opacity:1\"/>\n",
       "<ellipse cx=\"331.894\" cy=\"153.951\" rx=\"0.100461\" ry=\"0.100461\" style=\"fill:#00FF00;fill-rule:evenodd;stroke:#00FF00;stroke-width:1px;stroke-linecap:butt;stroke-linejoin:miter;stroke-opacity:1\"/>\n",
       "<ellipse cx=\"310.08\" cy=\"179.057\" rx=\"0.0170094\" ry=\"0.0170094\" style=\"fill:#FF0000;fill-rule:evenodd;stroke:#FF0000;stroke-width:1px;stroke-linecap:butt;stroke-linejoin:miter;stroke-opacity:1\"/>\n",
       "<ellipse cx=\"321.058\" cy=\"122.507\" rx=\"0.0170094\" ry=\"0.0170094\" style=\"fill:#FF0000;fill-rule:evenodd;stroke:#FF0000;stroke-width:1px;stroke-linecap:butt;stroke-linejoin:miter;stroke-opacity:1\"/>\n",
       "<ellipse cx=\"68.0635\" cy=\"168.757\" rx=\"0.0576043\" ry=\"0.0576043\" style=\"fill:#00FF00;fill-rule:evenodd;stroke:#00FF00;stroke-width:1px;stroke-linecap:butt;stroke-linejoin:miter;stroke-opacity:1\"/>\n",
       "<ellipse cx=\"93.1697\" cy=\"190.57\" rx=\"0.338915\" ry=\"0.338915\" style=\"fill:#00FF00;fill-rule:evenodd;stroke:#00FF00;stroke-width:1px;stroke-linecap:butt;stroke-linejoin:miter;stroke-opacity:1\"/>\n",
       "<ellipse cx=\"277.431\" cy=\"172.719\" rx=\"0.0115593\" ry=\"0.0115593\" style=\"fill:#FF0000;fill-rule:evenodd;stroke:#FF0000;stroke-width:1px;stroke-linecap:butt;stroke-linejoin:miter;stroke-opacity:1\"/>\n",
       "<ellipse cx=\"288.408\" cy=\"116.169\" rx=\"0.0115593\" ry=\"0.0115593\" style=\"fill:#FF0000;fill-rule:evenodd;stroke:#FF0000;stroke-width:1px;stroke-linecap:butt;stroke-linejoin:miter;stroke-opacity:1\"/>\n",
       "<ellipse cx=\"125.162\" cy=\"84.4787\" rx=\"0.250789\" ry=\"0.250789\" style=\"fill:#00FF00;fill-rule:evenodd;stroke:#00FF00;stroke-width:1px;stroke-linecap:butt;stroke-linejoin:miter;stroke-opacity:1\"/>\n",
       "<ellipse cx=\"146.975\" cy=\"59.3725\" rx=\"0.0911645\" ry=\"0.0911645\" style=\"fill:#FF0000;fill-rule:evenodd;stroke:#FF0000;stroke-width:1px;stroke-linecap:butt;stroke-linejoin:miter;stroke-opacity:1\"/>\n",
       "<ellipse cx=\"81.0511\" cy=\"138.139\" rx=\"0.347461\" ry=\"0.347461\" style=\"fill:#00FF00;fill-rule:evenodd;stroke:#00FF00;stroke-width:1px;stroke-linecap:butt;stroke-linejoin:miter;stroke-opacity:1\"/>\n",
       "<ellipse cx=\"121.674\" cy=\"173.434\" rx=\"0.309697\" ry=\"0.309697\" style=\"fill:#00FF00;fill-rule:evenodd;stroke:#00FF00;stroke-width:1px;stroke-linecap:butt;stroke-linejoin:miter;stroke-opacity:1\"/>\n",
       "<ellipse cx=\"168.647\" cy=\"122.261\" rx=\"0.719347\" ry=\"0.719347\" style=\"fill:#00FF00;fill-rule:evenodd;stroke:#00FF00;stroke-width:1px;stroke-linecap:butt;stroke-linejoin:miter;stroke-opacity:1\"/>\n",
       "<ellipse cx=\"233.946\" cy=\"134.937\" rx=\"0.164545\" ry=\"0.164545\" style=\"fill:#FF0000;fill-rule:evenodd;stroke:#FF0000;stroke-width:1px;stroke-linecap:butt;stroke-linejoin:miter;stroke-opacity:1\"/>\n",
       "<ellipse cx=\"266.595\" cy=\"141.275\" rx=\"0.126244\" ry=\"0.126244\" style=\"fill:#FF0000;fill-rule:evenodd;stroke:#FF0000;stroke-width:1px;stroke-linecap:butt;stroke-linejoin:miter;stroke-opacity:1\"/>\n",
       "<ellipse cx=\"135.998\" cy=\"115.923\" rx=\"0.051115\" ry=\"0.051115\" style=\"fill:#00FF00;fill-rule:evenodd;stroke:#00FF00;stroke-width:1px;stroke-linecap:butt;stroke-linejoin:miter;stroke-opacity:1\"/>\n",
       "<ellipse cx=\"190.46\" cy=\"97.1546\" rx=\"0.0567358\" ry=\"0.0567358\" style=\"fill:#FF0000;fill-rule:evenodd;stroke:#FF0000;stroke-width:1px;stroke-linecap:butt;stroke-linejoin:miter;stroke-opacity:1\"/>\n",
       "<ellipse cx=\"179.625\" cy=\"65.7105\" rx=\"0.84453\" ry=\"0.84453\" style=\"fill:#FF0000;fill-rule:evenodd;stroke:#FF0000;stroke-width:1px;stroke-linecap:butt;stroke-linejoin:miter;stroke-opacity:1\"/>\n",
       "<ellipse cx=\"223.11\" cy=\"103.493\" rx=\"0.0400201\" ry=\"0.0400201\" style=\"fill:#FF0000;fill-rule:evenodd;stroke:#FF0000;stroke-width:1px;stroke-linecap:butt;stroke-linejoin:miter;stroke-opacity:1\"/>\n",
       "<ellipse cx=\"114.184\" cy=\"141.029\" rx=\"0.148166\" ry=\"0.148166\" style=\"fill:#00FF00;fill-rule:evenodd;stroke:#00FF00;stroke-width:1px;stroke-linecap:butt;stroke-linejoin:miter;stroke-opacity:1\"/>\n",
       "<ellipse cx=\"201.438\" cy=\"40.6043\" rx=\"0.784816\" ry=\"0.784816\" style=\"fill:#00FF00;fill-rule:evenodd;stroke:#00FF00;stroke-width:1px;stroke-linecap:butt;stroke-linejoin:miter;stroke-opacity:1\"/>\n",
       "<ellipse cx=\"190.602\" cy=\"9.16017\" rx=\"0.0692635\" ry=\"0.0692635\" style=\"fill:#00FF00;fill-rule:evenodd;stroke:#00FF00;stroke-width:1px;stroke-linecap:butt;stroke-linejoin:miter;stroke-opacity:1\"/>\n",
       "<ellipse cx=\"234.088\" cy=\"46.9423\" rx=\"0.106121\" ry=\"0.106121\" style=\"fill:#FF0000;fill-rule:evenodd;stroke:#FF0000;stroke-width:1px;stroke-linecap:butt;stroke-linejoin:miter;stroke-opacity:1\"/>\n",
       "<path class=\"bond-0\" d=\"M 331.894,153.951 L 310.08,179.057\" style=\"fill:none;fill-rule:evenodd;stroke:#000000;stroke-width:2px;stroke-linecap:butt;stroke-linejoin:miter;stroke-opacity:1\"/>\n",
       "<path class=\"bond-0\" d=\"M 323.6,153.354 L 308.331,170.928\" style=\"fill:none;fill-rule:evenodd;stroke:#000000;stroke-width:2px;stroke-linecap:butt;stroke-linejoin:miter;stroke-opacity:1;stroke-dasharray:6,6\"/>\n",
       "<path class=\"bond-1\" d=\"M 331.894,153.951 L 321.058,122.507\" style=\"fill:none;fill-rule:evenodd;stroke:#000000;stroke-width:2px;stroke-linecap:butt;stroke-linejoin:miter;stroke-opacity:1\"/>\n",
       "<path class=\"bond-1\" d=\"M 323.979,151.401 L 316.394,129.39\" style=\"fill:none;fill-rule:evenodd;stroke:#000000;stroke-width:2px;stroke-linecap:butt;stroke-linejoin:miter;stroke-opacity:1;stroke-dasharray:6,6\"/>\n",
       "<path class=\"bond-2\" d=\"M 310.08,179.057 L 277.431,172.719\" style=\"fill:none;fill-rule:evenodd;stroke:#000000;stroke-width:2px;stroke-linecap:butt;stroke-linejoin:miter;stroke-opacity:1\"/>\n",
       "<path class=\"bond-2\" d=\"M 306.45,171.576 L 283.596,167.14\" style=\"fill:none;fill-rule:evenodd;stroke:#000000;stroke-width:2px;stroke-linecap:butt;stroke-linejoin:miter;stroke-opacity:1;stroke-dasharray:6,6\"/>\n",
       "<path class=\"bond-3\" d=\"M 321.058,122.507 L 288.408,116.169\" style=\"fill:none;fill-rule:evenodd;stroke:#000000;stroke-width:2px;stroke-linecap:butt;stroke-linejoin:miter;stroke-opacity:1\"/>\n",
       "<path class=\"bond-3\" d=\"M 314.893,128.086 L 292.038,123.649\" style=\"fill:none;fill-rule:evenodd;stroke:#000000;stroke-width:2px;stroke-linecap:butt;stroke-linejoin:miter;stroke-opacity:1;stroke-dasharray:6,6\"/>\n",
       "<path class=\"bond-4\" d=\"M 68.0635,168.757 L 93.1697,190.57\" style=\"fill:none;fill-rule:evenodd;stroke:#000000;stroke-width:2px;stroke-linecap:butt;stroke-linejoin:miter;stroke-opacity:1\"/>\n",
       "<path class=\"bond-5\" d=\"M 68.0635,168.757 L 81.0511,138.139\" style=\"fill:none;fill-rule:evenodd;stroke:#000000;stroke-width:2px;stroke-linecap:butt;stroke-linejoin:miter;stroke-opacity:1\"/>\n",
       "<path class=\"bond-6\" d=\"M 93.1697,190.57 L 121.674,173.434\" style=\"fill:none;fill-rule:evenodd;stroke:#000000;stroke-width:2px;stroke-linecap:butt;stroke-linejoin:miter;stroke-opacity:1\"/>\n",
       "<path class=\"bond-7\" d=\"M 277.431,172.719 L 266.595,141.275\" style=\"fill:none;fill-rule:evenodd;stroke:#000000;stroke-width:2px;stroke-linecap:butt;stroke-linejoin:miter;stroke-opacity:1\"/>\n",
       "<path class=\"bond-7\" d=\"M 282.094,165.835 L 274.509,143.824\" style=\"fill:none;fill-rule:evenodd;stroke:#000000;stroke-width:2px;stroke-linecap:butt;stroke-linejoin:miter;stroke-opacity:1;stroke-dasharray:6,6\"/>\n",
       "<path class=\"bond-8\" d=\"M 288.408,116.169 L 266.595,141.275\" style=\"fill:none;fill-rule:evenodd;stroke:#000000;stroke-width:2px;stroke-linecap:butt;stroke-linejoin:miter;stroke-opacity:1\"/>\n",
       "<path class=\"bond-8\" d=\"M 290.158,124.297 L 274.888,141.871\" style=\"fill:none;fill-rule:evenodd;stroke:#000000;stroke-width:2px;stroke-linecap:butt;stroke-linejoin:miter;stroke-opacity:1;stroke-dasharray:6,6\"/>\n",
       "<path class=\"bond-9\" d=\"M 125.162,84.4787 L 146.975,59.3725\" style=\"fill:none;fill-rule:evenodd;stroke:#000000;stroke-width:2px;stroke-linecap:butt;stroke-linejoin:miter;stroke-opacity:1\"/>\n",
       "<path class=\"bond-9\" d=\"M 133.455,85.0755 L 148.725,67.5011\" style=\"fill:none;fill-rule:evenodd;stroke:#000000;stroke-width:2px;stroke-linecap:butt;stroke-linejoin:miter;stroke-opacity:1;stroke-dasharray:6,6\"/>\n",
       "<path class=\"bond-10\" d=\"M 125.162,84.4787 L 135.998,115.923\" style=\"fill:none;fill-rule:evenodd;stroke:#000000;stroke-width:2px;stroke-linecap:butt;stroke-linejoin:miter;stroke-opacity:1\"/>\n",
       "<path class=\"bond-10\" d=\"M 133.076,87.0281 L 140.661,109.039\" style=\"fill:none;fill-rule:evenodd;stroke:#000000;stroke-width:2px;stroke-linecap:butt;stroke-linejoin:miter;stroke-opacity:1;stroke-dasharray:6,6\"/>\n",
       "<path class=\"bond-11\" d=\"M 146.975,59.3725 L 179.625,65.7105\" style=\"fill:none;fill-rule:evenodd;stroke:#000000;stroke-width:2px;stroke-linecap:butt;stroke-linejoin:miter;stroke-opacity:1\"/>\n",
       "<path class=\"bond-11\" d=\"M 150.605,66.8531 L 173.46,71.2897\" style=\"fill:none;fill-rule:evenodd;stroke:#000000;stroke-width:2px;stroke-linecap:butt;stroke-linejoin:miter;stroke-opacity:1;stroke-dasharray:6,6\"/>\n",
       "<path class=\"bond-12\" d=\"M 81.0511,138.139 L 95.2154,139.374\" style=\"fill:none;fill-rule:evenodd;stroke:#000000;stroke-width:2px;stroke-linecap:butt;stroke-linejoin:miter;stroke-opacity:1\"/>\n",
       "<path class=\"bond-12\" d=\"M 95.2154,139.374 L 109.38,140.61\" style=\"fill:none;fill-rule:evenodd;stroke:#0000FF;stroke-width:2px;stroke-linecap:butt;stroke-linejoin:miter;stroke-opacity:1\"/>\n",
       "<path class=\"bond-13\" d=\"M 121.674,173.434 L 118.57,160.003\" style=\"fill:none;fill-rule:evenodd;stroke:#000000;stroke-width:2px;stroke-linecap:butt;stroke-linejoin:miter;stroke-opacity:1\"/>\n",
       "<path class=\"bond-13\" d=\"M 118.57,160.003 L 115.465,146.572\" style=\"fill:none;fill-rule:evenodd;stroke:#0000FF;stroke-width:2px;stroke-linecap:butt;stroke-linejoin:miter;stroke-opacity:1\"/>\n",
       "<path class=\"bond-14\" d=\"M 168.647,122.261 L 135.998,115.923\" style=\"fill:none;fill-rule:evenodd;stroke:#000000;stroke-width:2px;stroke-linecap:butt;stroke-linejoin:miter;stroke-opacity:1\"/>\n",
       "<path class=\"bond-14\" d=\"M 165.017,114.78 L 142.163,110.344\" style=\"fill:none;fill-rule:evenodd;stroke:#000000;stroke-width:2px;stroke-linecap:butt;stroke-linejoin:miter;stroke-opacity:1;stroke-dasharray:6,6\"/>\n",
       "<path class=\"bond-15\" d=\"M 168.647,122.261 L 190.46,97.1546\" style=\"fill:none;fill-rule:evenodd;stroke:#000000;stroke-width:2px;stroke-linecap:butt;stroke-linejoin:miter;stroke-opacity:1\"/>\n",
       "<path class=\"bond-15\" d=\"M 166.898,114.132 L 182.167,96.5578\" style=\"fill:none;fill-rule:evenodd;stroke:#000000;stroke-width:2px;stroke-linecap:butt;stroke-linejoin:miter;stroke-opacity:1;stroke-dasharray:6,6\"/>\n",
       "<path class=\"bond-16\" d=\"M 233.946,134.937 L 266.595,141.275\" style=\"fill:none;fill-rule:evenodd;stroke:#000000;stroke-width:2px;stroke-linecap:butt;stroke-linejoin:miter;stroke-opacity:1\"/>\n",
       "<path class=\"bond-17\" d=\"M 233.946,134.937 L 229.483,121.986\" style=\"fill:none;fill-rule:evenodd;stroke:#000000;stroke-width:2px;stroke-linecap:butt;stroke-linejoin:miter;stroke-opacity:1\"/>\n",
       "<path class=\"bond-17\" d=\"M 229.483,121.986 L 225.02,109.036\" style=\"fill:none;fill-rule:evenodd;stroke:#0000FF;stroke-width:2px;stroke-linecap:butt;stroke-linejoin:miter;stroke-opacity:1\"/>\n",
       "<path class=\"bond-18\" d=\"M 135.998,115.923 L 127.493,125.711\" style=\"fill:none;fill-rule:evenodd;stroke:#000000;stroke-width:2px;stroke-linecap:butt;stroke-linejoin:miter;stroke-opacity:1\"/>\n",
       "<path class=\"bond-18\" d=\"M 127.493,125.711 L 118.989,135.499\" style=\"fill:none;fill-rule:evenodd;stroke:#0000FF;stroke-width:2px;stroke-linecap:butt;stroke-linejoin:miter;stroke-opacity:1\"/>\n",
       "<path class=\"bond-19\" d=\"M 190.46,97.1546 L 179.625,65.7105\" style=\"fill:none;fill-rule:evenodd;stroke:#000000;stroke-width:2px;stroke-linecap:butt;stroke-linejoin:miter;stroke-opacity:1\"/>\n",
       "<path class=\"bond-19\" d=\"M 182.546,94.6052 L 174.961,72.5943\" style=\"fill:none;fill-rule:evenodd;stroke:#000000;stroke-width:2px;stroke-linecap:butt;stroke-linejoin:miter;stroke-opacity:1;stroke-dasharray:6,6\"/>\n",
       "<path class=\"bond-20\" d=\"M 190.46,97.1546 L 201.981,99.391\" style=\"fill:none;fill-rule:evenodd;stroke:#000000;stroke-width:2px;stroke-linecap:butt;stroke-linejoin:miter;stroke-opacity:1\"/>\n",
       "<path class=\"bond-20\" d=\"M 201.981,99.391 L 213.501,101.627\" style=\"fill:none;fill-rule:evenodd;stroke:#0000FF;stroke-width:2px;stroke-linecap:butt;stroke-linejoin:miter;stroke-opacity:1\"/>\n",
       "<path class=\"bond-21\" d=\"M 179.625,65.7105 L 187.883,56.2061\" style=\"fill:none;fill-rule:evenodd;stroke:#000000;stroke-width:2px;stroke-linecap:butt;stroke-linejoin:miter;stroke-opacity:1\"/>\n",
       "<path class=\"bond-21\" d=\"M 187.883,56.2061 L 196.14,46.7018\" style=\"fill:none;fill-rule:evenodd;stroke:#0000FF;stroke-width:2px;stroke-linecap:butt;stroke-linejoin:miter;stroke-opacity:1\"/>\n",
       "<path class=\"bond-22\" d=\"M 199.337,34.5069 L 196.02,24.8822\" style=\"fill:none;fill-rule:evenodd;stroke:#0000FF;stroke-width:2px;stroke-linecap:butt;stroke-linejoin:miter;stroke-opacity:1\"/>\n",
       "<path class=\"bond-22\" d=\"M 196.02,24.8822 L 192.704,15.2576\" style=\"fill:none;fill-rule:evenodd;stroke:#FF0000;stroke-width:2px;stroke-linecap:butt;stroke-linejoin:miter;stroke-opacity:1\"/>\n",
       "<path class=\"bond-23\" d=\"M 207.552,45.1791 L 217.914,47.1907\" style=\"fill:none;fill-rule:evenodd;stroke:#0000FF;stroke-width:2px;stroke-linecap:butt;stroke-linejoin:miter;stroke-opacity:1\"/>\n",
       "<path class=\"bond-23\" d=\"M 217.914,47.1907 L 228.277,49.2022\" style=\"fill:none;fill-rule:evenodd;stroke:#FF0000;stroke-width:2px;stroke-linecap:butt;stroke-linejoin:miter;stroke-opacity:1\"/>\n",
       "<path class=\"bond-23\" d=\"M 208.82,38.6492 L 219.182,40.6608\" style=\"fill:none;fill-rule:evenodd;stroke:#0000FF;stroke-width:2px;stroke-linecap:butt;stroke-linejoin:miter;stroke-opacity:1\"/>\n",
       "<path class=\"bond-23\" d=\"M 219.182,40.6608 L 229.544,42.6724\" style=\"fill:none;fill-rule:evenodd;stroke:#FF0000;stroke-width:2px;stroke-linecap:butt;stroke-linejoin:miter;stroke-opacity:1\"/>\n",
       "<text style=\"font-size:11px;font-style:normal;font-weight:normal;fill-opacity:1;stroke:none;font-family:sans-serif;text-anchor:start;fill:#0000FF\" x=\"213.501\" y=\"109.036\"><tspan>NH</tspan></text>\n",
       "<text style=\"font-size:11px;font-style:normal;font-weight:normal;fill-opacity:1;stroke:none;font-family:sans-serif;text-anchor:start;fill:#0000FF\" x=\"109.38\" y=\"146.572\"><tspan>N</tspan></text>\n",
       "<text style=\"font-size:11px;font-style:normal;font-weight:normal;fill-opacity:1;stroke:none;font-family:sans-serif;text-anchor:start;fill:#0000FF\" x=\"194.691\" y=\"46.7018\"><tspan>N</tspan><tspan style=\"baseline-shift:super;font-size:8.25px;\">+</tspan><tspan/></text>\n",
       "<text style=\"font-size:11px;font-style:normal;font-weight:normal;fill-opacity:1;stroke:none;font-family:sans-serif;text-anchor:start;fill:#FF0000\" x=\"184.317\" y=\"15.2576\"><tspan>O</tspan><tspan style=\"baseline-shift:super;font-size:8.25px;\">-</tspan><tspan/></text>\n",
       "<text style=\"font-size:11px;font-style:normal;font-weight:normal;fill-opacity:1;stroke:none;font-family:sans-serif;text-anchor:start;fill:#FF0000\" x=\"228.91\" y=\"52.4854\"><tspan>O</tspan></text>\n",
       "</svg>"
      ],
      "text/plain": [
       "<IPython.core.display.SVG object>"
      ]
     },
     "execution_count": 9,
     "metadata": {},
     "output_type": "execute_result"
    }
   ],
   "source": [
    "img"
   ]
  },
  {
   "cell_type": "code",
   "execution_count": null,
   "metadata": {},
   "outputs": [],
   "source": []
  }
 ],
 "metadata": {
  "kernelspec": {
   "display_name": "Python 3",
   "language": "python",
   "name": "python3"
  },
  "language_info": {
   "codemirror_mode": {
    "name": "ipython",
    "version": 3
   },
   "file_extension": ".py",
   "mimetype": "text/x-python",
   "name": "python",
   "nbconvert_exporter": "python",
   "pygments_lexer": "ipython3",
   "version": "3.7.6"
  }
 },
 "nbformat": 4,
 "nbformat_minor": 4
}
